{
 "cells": [
  {
   "cell_type": "code",
   "execution_count": 1,
   "id": "4faebf75-3369-420c-aec0-a4b6a265c269",
   "metadata": {},
   "outputs": [
    {
     "name": "stdout",
     "output_type": "stream",
     "text": [
      "After adding 50 and 60: [11, 12, 13, 14, 50, 60]\n",
      "After removing 11 and 13: [12, 14, 50, 60]\n",
      "Sorted in ascending order: [12, 14, 50, 60]\n",
      "Sorted in descending order: [60, 50, 14, 12]\n",
      "Is 13 present in L: False\n",
      "Number of elements in L: 4\n",
      "Sum of all elements in L: 136\n",
      "Sum of all odd numbers in L: 0\n",
      "Sum of all even numbers in L: 136\n",
      "Sum of all prime numbers in L: 0\n",
      "List after clearing all elements: []\n"
     ]
    }
   ],
   "source": [
    "# Define the list\n",
    "L = [11, 12, 13, 14]\n",
    "\n",
    "# (i) Add 50 and 60 to L\n",
    "L.extend([50, 60])\n",
    "print(\"After adding 50 and 60:\", L)\n",
    "\n",
    "# (ii) Remove 11 and 13 from L\n",
    "L.remove(11)\n",
    "L.remove(13)\n",
    "print(\"After removing 11 and 13:\", L)\n",
    "\n",
    "# (iii) Sort L in ascending order\n",
    "L.sort()\n",
    "print(\"Sorted in ascending order:\", L)\n",
    "\n",
    "# (iv) Sort L in descending order\n",
    "L.sort(reverse=True)\n",
    "print(\"Sorted in descending order:\", L)\n",
    "\n",
    "# (v) Search for 13 in L\n",
    "search_element = 13\n",
    "is_present = search_element in L\n",
    "print(f\"Is {search_element} present in L:\", is_present)\n",
    "\n",
    "# (vi) Count the number of elements present in L\n",
    "count_elements = len(L)\n",
    "print(\"Number of elements in L:\", count_elements)\n",
    "\n",
    "# (vii) Sum all the elements in L\n",
    "sum_elements = sum(L)\n",
    "print(\"Sum of all elements in L:\", sum_elements)\n",
    "\n",
    "# (viii) Sum all ODD numbers in L\n",
    "sum_odd = sum(x for x in L if x % 2 != 0)\n",
    "print(\"Sum of all odd numbers in L:\", sum_odd)\n",
    "\n",
    "# (ix) Sum all EVEN numbers in L\n",
    "sum_even = sum(x for x in L if x % 2 == 0)\n",
    "print(\"Sum of all even numbers in L:\", sum_even)\n",
    "\n",
    "# (x) Sum all PRIME numbers in L\n",
    "def is_prime(n):\n",
    "    if n <= 1:\n",
    "        return False\n",
    "    for i in range(2, int(n**0.5) + 1):\n",
    "        if n % i == 0:\n",
    "            return False\n",
    "    return True\n",
    "\n",
    "sum_prime = sum(x for x in L if is_prime(x))\n",
    "print(\"Sum of all prime numbers in L:\", sum_prime)\n",
    "\n",
    "# (xi) Clear all the elements in L\n",
    "L.clear()\n",
    "print(\"List after clearing all elements:\", L)\n",
    "\n",
    "# (xii) Delete L\n",
    "del L\n",
    "# Uncommenting the next line will cause a NameError since L no longer exists\n",
    "# print(L)\n"
   ]
  },
  {
   "cell_type": "code",
   "execution_count": null,
   "id": "44d214a0-c1b4-463d-94d7-b87f37b91146",
   "metadata": {},
   "outputs": [],
   "source": []
  }
 ],
 "metadata": {
  "kernelspec": {
   "display_name": "Python 3 (ipykernel)",
   "language": "python",
   "name": "python3"
  },
  "language_info": {
   "codemirror_mode": {
    "name": "ipython",
    "version": 3
   },
   "file_extension": ".py",
   "mimetype": "text/x-python",
   "name": "python",
   "nbconvert_exporter": "python",
   "pygments_lexer": "ipython3",
   "version": "3.12.3"
  }
 },
 "nbformat": 4,
 "nbformat_minor": 5
}
