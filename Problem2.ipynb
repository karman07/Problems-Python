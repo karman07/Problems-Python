{
 "cells": [
  {
   "cell_type": "code",
   "execution_count": 5,
   "id": "08209ee4-3568-495c-901b-5c00b98ee2e6",
   "metadata": {},
   "outputs": [
    {
     "name": "stdout",
     "output_type": "stream",
     "text": [
      "Original List: ['Ram', 1, 'Shyam', 2, 'Aman', 3]\n",
      "Sorted List: ['1', '2', '3', 'Aman', 'Ram', 'Shyam']\n"
     ]
    }
   ],
   "source": [
    "L = [\"Ram\", 1, \"Shyam\", 2, \"Aman\", 3]\n",
    "print(\"Original List:\", L)\n",
    "L_str = [str(x) for x in L]\n",
    "L_str.sort()\n",
    "\n",
    "print(\"Sorted List:\", L_str)\n"
   ]
  },
  {
   "cell_type": "code",
   "execution_count": null,
   "id": "2ab20416-0b93-494a-ac14-97c28dff900c",
   "metadata": {},
   "outputs": [],
   "source": []
  }
 ],
 "metadata": {
  "kernelspec": {
   "display_name": "Python 3 (ipykernel)",
   "language": "python",
   "name": "python3"
  },
  "language_info": {
   "codemirror_mode": {
    "name": "ipython",
    "version": 3
   },
   "file_extension": ".py",
   "mimetype": "text/x-python",
   "name": "python",
   "nbconvert_exporter": "python",
   "pygments_lexer": "ipython3",
   "version": "3.12.3"
  }
 },
 "nbformat": 4,
 "nbformat_minor": 5
}
