{
 "cells": [
  {
   "cell_type": "markdown",
   "id": "44e9f3bf-7a37-42b8-8d4e-6d8294952a0d",
   "metadata": {
    "jp-MarkdownHeadingCollapsed": true
   },
   "source": [
    "# Question 1"
   ]
  },
  {
   "cell_type": "code",
   "execution_count": null,
   "id": "0e930207-d93c-405e-83f5-76cfc4bafbc5",
   "metadata": {},
   "outputs": [],
   "source": [
    "# Define the list\n",
    "L = [11, 12, 13, 14]\n",
    "\n",
    "# (i) Add 50 and 60 to L\n",
    "L.extend([50, 60])\n",
    "print(\"After adding 50 and 60:\", L)\n",
    "\n",
    "# (ii) Remove 11 and 13 from L\n",
    "L.remove(11)\n",
    "L.remove(13)\n",
    "print(\"After removing 11 and 13:\", L)\n",
    "\n",
    "# (iii) Sort L in ascending order\n",
    "L.sort()\n",
    "print(\"Sorted in ascending order:\", L)\n",
    "\n",
    "# (iv) Sort L in descending order\n",
    "L.sort(reverse=True)\n",
    "print(\"Sorted in descending order:\", L)\n",
    "\n",
    "# (v) Search for 13 in L\n",
    "search_element = 13\n",
    "is_present = search_element in L\n",
    "print(f\"Is {search_element} present in L:\", is_present)\n",
    "\n",
    "# (vi) Count the number of elements present in L\n",
    "count_elements = len(L)\n",
    "print(\"Number of elements in L:\", count_elements)\n",
    "\n",
    "# (vii) Sum all the elements in L\n",
    "sum_elements = sum(L)\n",
    "print(\"Sum of all elements in L:\", sum_elements)\n",
    "\n",
    "# (viii) Sum all ODD numbers in L\n",
    "sum_odd = sum(x for x in L if x % 2 != 0)\n",
    "print(\"Sum of all odd numbers in L:\", sum_odd)\n",
    "\n",
    "# (ix) Sum all EVEN numbers in L\n",
    "sum_even = sum(x for x in L if x % 2 == 0)\n",
    "print(\"Sum of all even numbers in L:\", sum_even)\n",
    "\n",
    "# (x) Sum all PRIME numbers in L\n",
    "def is_prime(n):\n",
    "    if n <= 1:\n",
    "        return False\n",
    "    for i in range(2, int(n**0.5) + 1):\n",
    "        if n % i == 0:\n",
    "            return False\n",
    "    return True\n",
    "\n",
    "sum_prime = sum(x for x in L if is_prime(x))\n",
    "print(\"Sum of all prime numbers in L:\", sum_prime)\n",
    "\n",
    "# (xi) Clear all the elements in L\n",
    "L.clear()\n",
    "print(\"List after clearing all elements:\", L)\n",
    "\n",
    "# (xii) Delete L\n",
    "del L\n",
    "# Uncommenting the next line will cause a NameError since L no longer exists\n",
    "# print(L)\n"
   ]
  },
  {
   "cell_type": "markdown",
   "id": "c6e60264-26c1-41af-b313-e15d37ac9ebe",
   "metadata": {
    "jp-MarkdownHeadingCollapsed": true
   },
   "source": [
    "# Question 2"
   ]
  },
  {
   "cell_type": "code",
   "execution_count": 2,
   "id": "44d214a0-c1b4-463d-94d7-b87f37b91146",
   "metadata": {},
   "outputs": [
    {
     "name": "stdout",
     "output_type": "stream",
     "text": [
      "After adding key=8: {1: 5.6, 2: 7.8, 3: 6.6, 4: 8.7, 5: 7.7, 8: 8.8}\n",
      "After removing key=2: {1: 5.6, 3: 6.6, 4: 8.7, 5: 7.7, 8: 8.8}\n",
      "Is key=6 present? False\n",
      "Number of elements in D: 5\n",
      "Sum of all values in D: 37.4\n",
      "After updating key=3 to 7.1: {1: 5.6, 3: 7.1, 4: 8.7, 5: 7.7, 8: 8.8}\n",
      "After clearing the dictionary: {}\n"
     ]
    }
   ],
   "source": [
    "# Initial dictionary\n",
    "D = {1: 5.6, 2: 7.8, 3: 6.6, 4: 8.7, 5: 7.7}\n",
    "\n",
    "# (i) Add new entry to D; key=8 and value=8.8\n",
    "D[8] = 8.8\n",
    "print(\"After adding key=8:\", D)\n",
    "\n",
    "# (ii) Remove key=2\n",
    "D.pop(2, None)\n",
    "print(\"After removing key=2:\", D)\n",
    "\n",
    "# (iii) Check whether key=6 is present in D\n",
    "is_key_6_present = 6 in D\n",
    "print(\"Is key=6 present?\", is_key_6_present)\n",
    "\n",
    "# (iv) Count the number of elements present in D\n",
    "count_elements = len(D)\n",
    "print(\"Number of elements in D:\", count_elements)\n",
    "\n",
    "# (v) Add all the values present in D\n",
    "sum_values = sum(D.values())\n",
    "print(\"Sum of all values in D:\", sum_values)\n",
    "\n",
    "# (vi) Update the value of key=3 to 7.1\n",
    "D[3] = 7.1\n",
    "print(\"After updating key=3 to 7.1:\", D)\n",
    "\n",
    "# (vii) Clear the dictionary\n",
    "D.clear()\n",
    "print(\"After clearing the dictionary:\", D)\n"
   ]
  },
  {
   "cell_type": "markdown",
   "id": "e5d6552f-93b6-4abb-973b-05406e4075a4",
   "metadata": {
    "jp-MarkdownHeadingCollapsed": true
   },
   "source": [
    "# Question 3"
   ]
  },
  {
   "cell_type": "code",
   "execution_count": 1,
   "id": "ff30bd24-c0ea-4513-930b-8d32bbdf7903",
   "metadata": {},
   "outputs": [
    {
     "name": "stdout",
     "output_type": "stream",
     "text": [
      "After adding 55 and 66 to S1: {50, 66, 20, 55, 40, 10, 60, 30}\n",
      "After removing 10 and 30 from S1: {50, 66, 20, 55, 40, 60}\n",
      "Is 40 present in S1? True\n",
      "Union of S1 and S2: {66, 70, 40, 80, 50, 20, 55, 90, 60}\n",
      "Intersection of S1 and S2: {40, 50, 60}\n",
      "S1 - S2: {66, 20, 55}\n"
     ]
    }
   ],
   "source": [
    "# Initial sets\n",
    "S1 = {10, 20, 30, 40, 50, 60}\n",
    "S2 = {40, 50, 60, 70, 80, 90}\n",
    "\n",
    "# (i) Add 55 and 66 in Set S1\n",
    "S1.update([55, 66])\n",
    "print(\"After adding 55 and 66 to S1:\", S1)\n",
    "\n",
    "# (ii) Remove 10 and 30 from Set S1\n",
    "S1.discard(10)\n",
    "S1.discard(30)\n",
    "print(\"After removing 10 and 30 from S1:\", S1)\n",
    "\n",
    "# (iii) Check whether 40 is present in S1\n",
    "is_40_present = 40 in S1\n",
    "print(\"Is 40 present in S1?\", is_40_present)\n",
    "\n",
    "# (iv) Find the union between S1 and S2\n",
    "union_set = S1.union(S2)\n",
    "print(\"Union of S1 and S2:\", union_set)\n",
    "\n",
    "# (v) Find the intersection between S1 and S2\n",
    "intersection_set = S1.intersection(S2)\n",
    "print(\"Intersection of S1 and S2:\", intersection_set)\n",
    "\n",
    "# (vi) Find S1 - S2\n",
    "difference_set = S1.difference(S2)\n",
    "print(\"S1 - S2:\", difference_set)\n"
   ]
  },
  {
   "cell_type": "markdown",
   "id": "05e0012c-6a82-4065-8fae-cb1218224da4",
   "metadata": {
    "jp-MarkdownHeadingCollapsed": true
   },
   "source": [
    "# Question 4"
   ]
  },
  {
   "cell_type": "code",
   "execution_count": 7,
   "id": "49f64f6f-f213-49e8-987b-2ddffedcc626",
   "metadata": {},
   "outputs": [
    {
     "name": "stdout",
     "output_type": "stream",
     "text": [
      "100 random strings: ['HsXPSjWd', 'nNJqqXb', 'sNbEQgx', 'etqMCfY', 'TlqSUST', 'YhYWbIv', 'IiUQdAm', 'YyGObMp', 'SpilYqOO', 'OAPJhQte', 'RoCHdP', 'XiKcCN', 'OUkbGC', 'JGMQVq', 'QDxkQY', 'aoknqK', 'BmzUskvi', 'WCKsej', 'SxqQbUr', 'SgXihPI', 'UqSPzLUV', 'uVBDOZ', 'RokBcBkJ', 'mnXjBC', 'tdMxBxt', 'AJNYIUSO', 'lHlzXB', 'ZrjkmBRy', 'yZQcrd', 'GWWpgbob', 'twBoGn', 'jBIuPnE', 'PeLMWXV', 'fnYffErI', 'CExWfuD', 'iZoYGh', 'aRPkGcM', 'vcCUoGOP', 'UeFbeBX', 'mvmYxEDB', 'lBLYxMb', 'YRvbars', 'mHqBjh', 'NRebRL', 'tfllsS', 'SmIkJEYv', 'HFzFHEE', 'mmuUUzZ', 'DEcqQKeC', 'lUPQxV', 'sWmfgYn', 'AjrxblmY', 'pmOOBS', 'ShCZFuKb', 'iEseqgFF', 'JVKcvh', 'KZFVvv', 'YNFdStz', 'auCBxD', 'EEMTlSyS', 'hUrbozr', 'zltizqY', 'dsazanb', 'OoumaerL', 'RXbkazpL', 'eSyidE', 'GFUuNkf', 'kWOXUk', 'UkaTWlYK', 'HNNlcLK', 'rJdjQC', 'XzLETOv', 'lCbSIOYI', 'JBtBLi', 'IuFBKZ', 'zWivuCN', 'MJLYtHl', 'SjpNuEvY', 'UIisvv', 'uzvQeqoN', 'bShTPMW', 'QSmMRr', 'IHhxJl', 'YGZtvLPT', 'fYZctOz', 'sjrrsW', 'jrhaVNyh', 'SNKKwZd', 'ubifQT', 'TbWJiSem', 'CYNhjc', 'vQkKIy', 'GkjkAB', 'vummZnU', 'lWbBwwRb', 'WEzCEPNr', 'milXgH', 'SfPokl', 'DPidLig', 'qOLEnfr']\n"
     ]
    }
   ],
   "source": [
    "import random\n",
    "import string\n",
    "\n",
    "random_strings = [''.join(random.choices(string.ascii_letters, k=random.randint(6, 8))) for i in range(100)]\n",
    "print(\"100 random strings:\", random_strings)"
   ]
  },
  {
   "cell_type": "code",
   "execution_count": 8,
   "id": "abddf250-1181-4175-b2bb-9534da101d71",
   "metadata": {},
   "outputs": [
    {
     "name": "stdout",
     "output_type": "stream",
     "text": [
      "Prime numbers between 600 and 800: [601, 607, 613, 617, 619, 631, 641, 643, 647, 653, 659, 661, 673, 677, 683, 691, 701, 709, 719, 727, 733, 739, 743, 751, 757, 761, 769, 773, 787, 797]\n"
     ]
    }
   ],
   "source": [
    "def is_prime(n):\n",
    "    if n <= 1:\n",
    "        return False\n",
    "    for i in range(2, int(n**0.5) + 1):\n",
    "        if n % i == 0:\n",
    "            return False\n",
    "    return True\n",
    "\n",
    "primes = [n for n in range(600, 801) if is_prime(n)]\n",
    "print(\"Prime numbers between 600 and 800:\", primes)"
   ]
  },
  {
   "cell_type": "code",
   "execution_count": 9,
   "id": "1a71ead5-4c47-4253-a348-3d6364b2da9c",
   "metadata": {},
   "outputs": [
    {
     "name": "stdout",
     "output_type": "stream",
     "text": [
      "Numbers between 100 and 1000 divisible by 7 and 9: [126, 189, 252, 315, 378, 441, 504, 567, 630, 693, 756, 819, 882, 945]\n"
     ]
    }
   ],
   "source": [
    "divisible_by_7_and_9 = [n for n in range(100, 1001) if n % 7 == 0 and n % 9 == 0]\n",
    "print(\"Numbers between 100 and 1000 divisible by 7 and 9:\", divisible_by_7_and_9)"
   ]
  },
  {
   "cell_type": "markdown",
   "id": "84aa6c18-a3e7-42c8-ba4b-48372d1a7891",
   "metadata": {
    "jp-MarkdownHeadingCollapsed": true
   },
   "source": [
    "# Question 5"
   ]
  },
  {
   "cell_type": "code",
   "execution_count": 10,
   "id": "990652ef-962b-4eb0-9249-43e77ed501f3",
   "metadata": {},
   "outputs": [
    {
     "name": "stdout",
     "output_type": "stream",
     "text": [
      "Common numbers in the two lists: {16, 24, 25, 14}\n",
      "Unique numbers in both the lists: {10, 12, 15, 19, 22, 23, 26, 30}\n",
      "Minimum in list1: 10\n",
      "Minimum in list2: 12\n",
      "Maximum in list1: 26\n",
      "Maximum in list2: 30\n",
      "Sum of both the lists: 398\n"
     ]
    }
   ],
   "source": [
    "import random\n",
    "\n",
    "list1 = [random.randint(10, 30) for _ in range(10)]\n",
    "list2 = [random.randint(10, 30) for _ in range(10)]\n",
    "\n",
    "# (i) Common numbers in the two lists\n",
    "common_numbers = set(list1).intersection(list2)\n",
    "print(\"Common numbers in the two lists:\", common_numbers)\n",
    "\n",
    "# (ii) Unique numbers in both the lists\n",
    "unique_numbers = set(list1).symmetric_difference(list2)\n",
    "print(\"Unique numbers in both the lists:\", unique_numbers)\n",
    "\n",
    "# (iii) Minimum in both the lists\n",
    "min_list1 = min(list1)\n",
    "min_list2 = min(list2)\n",
    "print(\"Minimum in list1:\", min_list1)\n",
    "print(\"Minimum in list2:\", min_list2)\n",
    "\n",
    "# (iv) Maximum in both the lists\n",
    "max_list1 = max(list1)\n",
    "max_list2 = max(list2)\n",
    "print(\"Maximum in list1:\", max_list1)\n",
    "print(\"Maximum in list2:\", max_list2)\n",
    "\n",
    "# (v) Sum of both the lists\n",
    "sum_lists = sum(list1) + sum(list2)\n",
    "print(\"Sum of both the lists:\", sum_lists)\n"
   ]
  },
  {
   "cell_type": "markdown",
   "id": "32827ce8-cbdc-4b99-b03b-10e3c0f80abd",
   "metadata": {
    "jp-MarkdownHeadingCollapsed": true
   },
   "source": [
    "# Question 6"
   ]
  },
  {
   "cell_type": "code",
   "execution_count": 11,
   "id": "af245e12-2d22-4a11-b696-91190e836d45",
   "metadata": {},
   "outputs": [
    {
     "name": "stdout",
     "output_type": "stream",
     "text": [
      "All odd numbers: [409, 309, 807, 137, 553, 397, 207, 807, 205, 359, 885, 721, 693, 793, 415, 895, 173, 637, 457, 201, 571, 157, 595, 773, 387, 855, 433, 543, 243, 781, 165, 775, 151, 171, 115, 857, 465, 377, 633, 887, 345, 707, 267, 369, 893, 805, 257, 263, 319, 609, 643, 893, 415, 631, 281, 293]\n",
      "All even numbers: [634, 100, 582, 716, 506, 306, 392, 130, 794, 444, 898, 274, 876, 780, 782, 198, 796, 778, 374, 134, 548, 792, 644, 840, 778, 840, 174, 198, 666, 348, 620, 446, 808, 876, 874, 768, 386, 634, 522, 280, 514, 900, 748, 736]\n",
      "All prime numbers: [409, 137, 397, 359, 173, 457, 571, 157, 773, 433, 151, 857, 887, 257, 263, 643, 631, 281, 293]\n"
     ]
    }
   ],
   "source": [
    "random_numbers = [random.randint(100, 900) for _ in range(100)]\n",
    "\n",
    "# (i) All odd numbers\n",
    "odd_numbers = [n for n in random_numbers if n % 2 != 0]\n",
    "print(\"All odd numbers:\", odd_numbers)\n",
    "\n",
    "# (ii) All even numbers\n",
    "even_numbers = [n for n in random_numbers if n % 2 == 0]\n",
    "print(\"All even numbers:\", even_numbers)\n",
    "\n",
    "# (iii) All prime numbers\n",
    "prime_numbers = [n for n in random_numbers if is_prime(n)]\n",
    "print(\"All prime numbers:\", prime_numbers)\n"
   ]
  },
  {
   "cell_type": "markdown",
   "id": "c4fdab33-078b-4173-ae31-6a0ba93759d7",
   "metadata": {
    "jp-MarkdownHeadingCollapsed": true
   },
   "source": [
    "# Question 7"
   ]
  },
  {
   "cell_type": "code",
   "execution_count": 12,
   "id": "ca83f26c-7373-40a7-b59c-25c75afaad9d",
   "metadata": {},
   "outputs": [
    {
     "name": "stdout",
     "output_type": "stream",
     "text": [
      "All odd numbers: [479, 549, 625, 787, 799, 683, 543, 291, 681, 199, 145, 481, 699, 129, 237, 897, 487, 209, 711, 757, 299, 731, 559, 685, 867, 685, 805, 447, 239, 477, 761, 373, 445, 547, 421, 611, 783, 201, 859, 367, 589, 423, 753, 541, 117, 121, 725, 819, 203, 101, 567]\n",
      "All even numbers: [710, 482, 266, 750, 756, 334, 792, 572, 110, 366, 170, 272, 766, 316, 664, 222, 560, 248, 408, 784, 334, 394, 854, 276, 330, 186, 560, 580, 124, 600, 768, 488, 764, 554, 304, 768, 474, 350, 110, 882, 392, 224, 170, 586, 246, 630, 304, 284, 296]\n",
      "All prime numbers: [479, 787, 683, 199, 487, 757, 239, 761, 373, 547, 421, 859, 367, 541, 101]\n"
     ]
    }
   ],
   "source": [
    "random_numbers = [random.randint(100, 900) for _ in range(100)]\n",
    "\n",
    "# (i) All odd numbers\n",
    "odd_numbers = [n for n in random_numbers if n % 2 != 0]\n",
    "print(\"All odd numbers:\", odd_numbers)\n",
    "\n",
    "# (ii) All even numbers\n",
    "even_numbers = [n for n in random_numbers if n % 2 == 0]\n",
    "print(\"All even numbers:\", even_numbers)\n",
    "\n",
    "# (iii) All prime numbers\n",
    "prime_numbers = [n for n in random_numbers if is_prime(n)]\n",
    "print(\"All prime numbers:\", prime_numbers)"
   ]
  },
  {
   "cell_type": "code",
   "execution_count": 13,
   "id": "01dae1e0-1229-4618-a874-992b45c28cb8",
   "metadata": {},
   "outputs": [],
   "source": [
    "D = {1: \"One\", 2: \"Two\", 3: \"Three\", 4: \"Four\", 5: \"Five\"}\n",
    "\n",
    "with open('output.txt', 'w') as file:\n",
    "    for key, value in D.items():\n",
    "        file.write(f\"{key}, {value}\\n\")"
   ]
  },
  {
   "cell_type": "markdown",
   "id": "62e4f680-d633-40e7-a5f9-2efad2c10cb9",
   "metadata": {},
   "source": [
    "# Question 8"
   ]
  },
  {
   "cell_type": "code",
   "execution_count": 14,
   "id": "41cd96e6-b8a9-476d-ba58-2ba027f777ec",
   "metadata": {},
   "outputs": [],
   "source": [
    "L = [\"One\", \"Two\", \"Three\", \"Four\", \"Five\"]\n",
    "\n",
    "with open('lengths.txt', 'w') as file:\n",
    "    for item in L:\n",
    "        file.write(f\"{item}, {len(item)}\\n\")"
   ]
  },
  {
   "cell_type": "markdown",
   "id": "976503cb-1bf2-46d7-9da4-eee7ca0506e6",
   "metadata": {},
   "source": [
    "# Question 9"
   ]
  },
  {
   "cell_type": "code",
   "execution_count": 15,
   "id": "b7bab888-3678-43d1-a757-2f8b7d835148",
   "metadata": {},
   "outputs": [],
   "source": [
    "with open('random_strings.txt', 'w') as file:\n",
    "    for _ in range(100):\n",
    "        rand_str = ''.join(random.choices(string.ascii_letters, k=random.randint(10, 15)))\n",
    "        file.write(rand_str + '\\n')"
   ]
  },
  {
   "cell_type": "markdown",
   "id": "18baa25c-3adb-4bee-9b4b-e2df594b1797",
   "metadata": {},
   "source": [
    "# Question 10"
   ]
  },
  {
   "cell_type": "code",
   "execution_count": 16,
   "id": "90616f79-5cdd-459f-b402-6c7156a9b334",
   "metadata": {},
   "outputs": [],
   "source": [
    "with open('primes_600_800.txt', 'w') as file:\n",
    "    for prime in primes:\n",
    "        file.write(str(prime) + '\\n')"
   ]
  },
  {
   "cell_type": "markdown",
   "id": "36706e47-a73a-4633-a231-8d313efa6564",
   "metadata": {},
   "source": [
    "# Question 11"
   ]
  },
  {
   "cell_type": "code",
   "execution_count": 18,
   "id": "8d0ca5ff-140d-46e8-b85c-771b6f57bb18",
   "metadata": {},
   "outputs": [
    {
     "name": "stdout",
     "output_type": "stream",
     "text": [
      "Time taken by the program: 1.0010402202606201\n"
     ]
    }
   ],
   "source": [
    "import time\n",
    "\n",
    "start_time = time.time()\n",
    "\n",
    "# Your program here\n",
    "time.sleep(1)  # Simulating a program that takes 1 second to run\n",
    "\n",
    "end_time = time.time()\n",
    "time_taken = end_time - start_time\n",
    "print(\"Time taken by the program:\", time_taken)"
   ]
  },
  {
   "cell_type": "code",
   "execution_count": null,
   "id": "6ee4811a-b468-4f6e-aed7-d1568d0f155e",
   "metadata": {},
   "outputs": [],
   "source": []
  }
 ],
 "metadata": {
  "kernelspec": {
   "display_name": "Python 3 (ipykernel)",
   "language": "python",
   "name": "python3"
  },
  "language_info": {
   "codemirror_mode": {
    "name": "ipython",
    "version": 3
   },
   "file_extension": ".py",
   "mimetype": "text/x-python",
   "name": "python",
   "nbconvert_exporter": "python",
   "pygments_lexer": "ipython3",
   "version": "3.12.3"
  }
 },
 "nbformat": 4,
 "nbformat_minor": 5
}
